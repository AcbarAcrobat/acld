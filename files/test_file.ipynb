{
 "cells": [
  {
   "cell_type": "markdown",
   "metadata": {},
   "source": [
    "# 0. Подключение библиотеки для работы с кластером и сервисом"
   ]
  },
  {
   "cell_type": "code",
   "execution_count": 1,
   "metadata": {},
   "outputs": [],
   "source": [
    "import client_lib"
   ]
  },
  {
   "cell_type": "code",
   "execution_count": 2,
   "metadata": {
    "scrolled": false
   },
   "outputs": [
    {
     "name": "stdout",
     "output_type": "stream",
     "text": [
      "Requirement already up-to-date: pip in /opt/conda/lib/python3.6/site-packages (20.0.2)\r\n"
     ]
    }
   ],
   "source": [
    "!pip install --upgrade pip"
   ]
  },
  {
   "cell_type": "code",
   "execution_count": 3,
   "metadata": {
    "scrolled": true
   },
   "outputs": [
    {
     "name": "stdout",
     "output_type": "stream",
     "text": [
      "\u001b[31mERROR: Invalid requirement: '/home/jovyan/requirements.txt'\r\n",
      "Hint: It looks like a path. File '/home/jovyan/requirements.txt' does not exist.\u001b[0m\r\n"
     ]
    }
   ],
   "source": [
    "!pip install /home/jovyan/requirements.txt"
   ]
  },
  {
   "cell_type": "markdown",
   "metadata": {},
   "source": [
    "# 1. Работа с S3"
   ]
  },
  {
   "cell_type": "markdown",
   "metadata": {},
   "source": [
    "##### Сохранение кредов S3"
   ]
  },
  {
   "cell_type": "code",
   "execution_count": 4,
   "metadata": {
    "scrolled": true
   },
   "outputs": [
    {
     "data": {
      "text/plain": [
       "'S3 Credentials \"{\\'result\\': None, \\'status\\': \\'ok\\'}\" created'"
      ]
     },
     "execution_count": 4,
     "metadata": {},
     "output_type": "execute_result"
    }
   ],
   "source": [
    "from client_lib import save_aws_credentials\n",
    "save_aws_credentials('b875178b-f537-4a1c-8977-7871bb9dc448-namespace', 'b63f3480-a700-48fb-85c5-b4a3b36f3713', 'BPAdF5E9CGAFv+rmBakFc+R0krVCHd/u4rPsqfG8')"
   ]
  },
  {
   "cell_type": "markdown",
   "metadata": {},
   "source": [
    "##### Перекладка с S3 на локальные диски кластера /home/jovyan необходимых файлов"
   ]
  },
  {
   "cell_type": "code",
   "execution_count": 5,
   "metadata": {},
   "outputs": [
    {
     "data": {
      "text/plain": [
       "'S3CopyJob \"{\\'name\\': \\'copying-job-mnxmr\\', \\'status\\': \\'ok\\'}\" created'"
      ]
     },
     "execution_count": 5,
     "metadata": {},
     "output_type": "execute_result"
    }
   ],
   "source": [
    "client_lib.S3CopyJob(\"s3://9b8d0e97-6461-47cf-9507-21ede838c9ac-bucket/mnist.npz\", \"/home/jovyan/\").submit()"
   ]
  },
  {
   "cell_type": "code",
   "execution_count": 6,
   "metadata": {},
   "outputs": [
    {
     "data": {
      "text/plain": [
       "'S3CopyJob \"{\\'name\\': \\'copying-job-h67sz\\', \\'status\\': \\'ok\\'}\" created'"
      ]
     },
     "execution_count": 6,
     "metadata": {},
     "output_type": "execute_result"
    }
   ],
   "source": [
    "client_lib.S3CopyJob(\"s3://9b8d0e97-6461-47cf-9507-21ede838c9ac-bucket/requirements.txt\", \"/home/jovyan/\").submit()"
   ]
  },
  {
   "cell_type": "code",
   "execution_count": 7,
   "metadata": {},
   "outputs": [
    {
     "data": {
      "text/plain": [
       "'S3CopyJob \"{\\'name\\': \\'copying-job-29nn2\\', \\'status\\': \\'ok\\'}\" created'"
      ]
     },
     "execution_count": 7,
     "metadata": {},
     "output_type": "execute_result"
    }
   ],
   "source": [
    "client_lib.S3CopyJob(\"s3://9b8d0e97-6461-47cf-9507-21ede838c9ac-bucket/tensorflow_mnist_estimator.py\", \"/home/jovyan/\").submit()"
   ]
  },
  {
   "cell_type": "markdown",
   "metadata": {},
   "source": [
    "# 2. Сборка образа с нужными библиотеками"
   ]
  },
  {
   "cell_type": "markdown",
   "metadata": {},
   "source": [
    "##### Файлик requirements.txt и его содержимое"
   ]
  },
  {
   "cell_type": "code",
   "execution_count": null,
   "metadata": {},
   "outputs": [],
   "source": [
    "!cat /home/jovyan/requirements.txt"
   ]
  },
  {
   "cell_type": "markdown",
   "metadata": {},
   "source": [
    "##### Сборка образа с необходимыми библиотеками"
   ]
  },
  {
   "cell_type": "code",
   "execution_count": null,
   "metadata": {},
   "outputs": [],
   "source": [
    "job = client_lib.ImageBuildJob(\n",
    "                    from_image='registry.aicloud.sbcp.ru/horovod-tf15',\n",
    "                    requirements_file='/home/jovyan/requirements.txt'\n",
    ")"
   ]
  },
  {
   "cell_type": "code",
   "execution_count": null,
   "metadata": {},
   "outputs": [],
   "source": [
    "job.submit()"
   ]
  },
  {
   "cell_type": "code",
   "execution_count": null,
   "metadata": {
    "scrolled": true
   },
   "outputs": [],
   "source": [
    "job.new_image"
   ]
  },
  {
   "cell_type": "code",
   "execution_count": null,
   "metadata": {
    "scrolled": false
   },
   "outputs": [],
   "source": [
    "job.logs()"
   ]
  },
  {
   "cell_type": "markdown",
   "metadata": {},
   "source": [
    "# 3. Запуск задачи обучения"
   ]
  },
  {
   "cell_type": "markdown",
   "metadata": {},
   "source": [
    "##### Создание задачи и отправка на кластер"
   ]
  },
  {
   "cell_type": "code",
   "execution_count": null,
   "metadata": {},
   "outputs": [],
   "source": [
    "mnist_tf_run = client_lib.Job(base_image='registry.aicloud.sbcp.ru/ai0000001-0090/09aa1302-6d95-4f04-8f23-71013679aa00',\n",
    "                              script='tensorflow_mnist_estimator.py', \n",
    "                              n_workers=2, n_gpus=4, warm_cache=False, detached=False)"
   ]
  },
  {
   "cell_type": "markdown",
   "metadata": {},
   "source": [
    "##### В предыдущей строке мы указали образ, в рамках которого будет исполняться задача (base_image), скрипт, который будет запущен (script), а также количество хостовых исполнителей (n_workers) и количество GPU-карт на каждом (n_gpus). \n",
    "##### В этом случае под задачу будет запущено 2 узла по 4 ГПУ карты (ИТОГО - 8 GPU).\n",
    "##### Теперь вызовем на объекте метод .submit() и отправим задачу в очередь исполнения на кластере"
   ]
  },
  {
   "cell_type": "code",
   "execution_count": null,
   "metadata": {
    "pycharm": {
     "name": "#%%\n"
    }
   },
   "outputs": [],
   "source": [
    "mnist_tf_run.submit()\n",
    "\n"
   ]
  }
 ],
 "metadata": {
  "kernelspec": {
   "display_name": "Python 3",
   "language": "python",
   "name": "python3"
  },
  "language_info": {
   "codemirror_mode": {
    "name": "ipython",
    "version": 3
   },
   "file_extension": ".py",
   "mimetype": "text/x-python",
   "name": "python",
   "nbconvert_exporter": "python",
   "pygments_lexer": "ipython3",
   "version": "3.6.7"
  },
  "pycharm": {
   "stem_cell": {
    "cell_type": "raw",
    "source": [],
    "metadata": {
     "collapsed": false
    }
   }
  }
 },
 "nbformat": 4,
 "nbformat_minor": 2
}
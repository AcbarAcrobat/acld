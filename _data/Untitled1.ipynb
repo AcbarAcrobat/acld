{
 "cells": [
  {
   "cell_type": "code",
   "execution_count": 1,
   "metadata": {},
   "outputs": [],
   "source": [
    "import client_lib"
   ]
  },
  {
   "cell_type": "code",
   "execution_count": 2,
   "metadata": {},
   "outputs": [],
   "source": [
    "from client_lib import save_aws_credentials"
   ]
  },
  {
   "cell_type": "code",
   "execution_count": 3,
   "metadata": {},
   "outputs": [
    {
     "data": {
      "text/plain": [
       "'S3 Credentials \"{\\'result\\': None, \\'status\\': \\'ok\\'}\" created'"
      ]
     },
     "execution_count": 3,
     "metadata": {},
     "output_type": "execute_result"
    }
   ],
   "source": [
    "save_aws_credentials('1298dc40-2b52-486d-9771-50776c14a864-namespace', \n",
    "                     '02efe6ac-693f-4a15-b0b1-da53ce0056d1', \n",
    "                     'NJHvZBpKqyQg9YMjcS4cHJzTP7gdr4JuBioxRy+v')"
   ]
  },
  {
   "cell_type": "code",
   "execution_count": 4,
   "metadata": {},
   "outputs": [
    {
     "data": {
      "text/plain": [
       "'S3CopyJob \"{\\'name\\': \\'copying-job-ccvdr\\', \\'status\\': \\'ok\\'}\" created'"
      ]
     },
     "execution_count": 4,
     "metadata": {},
     "output_type": "execute_result"
    }
   ],
   "source": [
    "client_lib.S3CopyJob(\"s3://45bd22b3-678f-4ef2-a629-6f5a1b5de94a-bucket/mnist.npz \", \"/home/jovyan/\").submit()"
   ]
  },
  {
   "cell_type": "code",
   "execution_count": 5,
   "metadata": {},
   "outputs": [
    {
     "data": {
      "text/plain": [
       "'S3CopyJob \"{\\'name\\': \\'copying-job-f5h8n\\', \\'status\\': \\'ok\\'}\" created'"
      ]
     },
     "execution_count": 5,
     "metadata": {},
     "output_type": "execute_result"
    }
   ],
   "source": [
    "client_lib.S3CopyJob(\"/home/jovyan/mnist.npz\", \"s3://45bd22b3-678f-4ef2-a629-6f5a1b5de94a-bucket/\").submit()"
   ]
  },
  {
   "cell_type": "code",
   "execution_count": null,
   "metadata": {},
   "outputs": [],
   "source": []
  },
  {
   "cell_type": "code",
   "execution_count": null,
   "metadata": {},
   "outputs": [],
   "source": []
  }
 ],
 "metadata": {
  "kernelspec": {
   "display_name": "Python 3",
   "language": "python",
   "name": "python3"
  },
  "language_info": {
   "codemirror_mode": {
    "name": "ipython",
    "version": 3
   },
   "file_extension": ".py",
   "mimetype": "text/x-python",
   "name": "python",
   "nbconvert_exporter": "python",
   "pygments_lexer": "ipython3",
   "version": "3.6.7"
  }
 },
 "nbformat": 4,
 "nbformat_minor": 2
}
